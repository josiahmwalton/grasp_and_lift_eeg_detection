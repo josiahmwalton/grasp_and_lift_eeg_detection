{
 "cells": [
  {
   "cell_type": "code",
   "execution_count": 1,
   "metadata": {
    "collapsed": true
   },
   "outputs": [],
   "source": [
    "import MySQLdb as mdb\n",
    "import pandas as pd\n",
    "from os import listdir"
   ]
  },
  {
   "cell_type": "code",
   "execution_count": 2,
   "metadata": {
    "collapsed": true
   },
   "outputs": [],
   "source": [
    "EEG_DATA_DIR = \"/home/dannowitz/Downloads/kaggle-eeg\""
   ]
  },
  {
   "cell_type": "code",
   "execution_count": 3,
   "metadata": {
    "collapsed": false
   },
   "outputs": [],
   "source": [
    "# Get list of files, split into data.csv and events.csv files\n",
    "sample_submission = \"sample_submission.csv\"\n",
    "test_data_list = listdir(EEG_DATA_DIR + \"/test\")\n",
    "train_list = listdir(EEG_DATA_DIR + \"/train\")\n",
    "train_events_list = [f for f in train_list if f[-10:]==\"events.csv\"]\n",
    "train_data_list = [f for f in train_list if f[-8:]==\"data.csv\"]\n",
    "del train_list"
   ]
  },
  {
   "cell_type": "code",
   "execution_count": 4,
   "metadata": {
    "collapsed": true
   },
   "outputs": [],
   "source": [
    "data_table_create = \"\"\"\n",
    "                    CREATE TABLE IF NOT EXISTS %s (\n",
    "                        id VARCHAR(32), Fp1 INT, Fp2 INT, F7 INT, \n",
    "                        F3 INT, Fz INT, F4 INT, F8 INT, FC5 INT, \n",
    "                        FC1 INT, FC2 INT, FC6 INT, T7 INT, C3 INT, \n",
    "                        Cz INT, C4 INT, T8 INT, TP9 INT, CP5 INT, \n",
    "                        CP1 INT, CP2 INT, CP6 INT, TP10 INT, P7 INT,\n",
    "                        P3 INT, Pz INT, P4 INT, P8 INT, PO9 INT, \n",
    "                        O1 INT, Oz INT, O2 INT, PO10 INT)\n",
    "                    \"\"\""
   ]
  },
  {
   "cell_type": "code",
   "execution_count": 5,
   "metadata": {
    "collapsed": true
   },
   "outputs": [],
   "source": [
    "event_table_create = \"\"\"\n",
    "                     CREATE TABLE IF NOT EXISTS %s (\n",
    "                     id VARCHAR(32),\n",
    "                     HandStart INT,\n",
    "                     FirstDigitTouch INT,\n",
    "                     BothStartLoadPhase INT,\n",
    "                     LiftOff INT,\n",
    "                     `Replace` INT,\n",
    "                     BothReleased INT )\n",
    "                     \"\"\""
   ]
  },
  {
   "cell_type": "code",
   "execution_count": 6,
   "metadata": {
    "collapsed": true
   },
   "outputs": [],
   "source": [
    "load_query = \"\"\"\n",
    "             LOAD DATA LOCAL INFILE '%s/%s'\n",
    "             INTO TABLE %s\n",
    "             FIELDS TERMINATED BY ','\n",
    "             IGNORE 1 LINES\n",
    "             \"\"\""
   ]
  },
  {
   "cell_type": "code",
   "execution_count": 7,
   "metadata": {
    "collapsed": true
   },
   "outputs": [],
   "source": [
    "# CHOOSE ONE SERVER TO WORK ON\n",
    "server = \"seaquel.physics.illinois.edu\"\n",
    "port = 3283\n",
    "schema = \"user_dannowitz_kaggle\"\n",
    "user = \"seaguest\"\n",
    "password = \"XXXXXXXXXX\""
   ]
  },
  {
   "cell_type": "code",
   "execution_count": 8,
   "metadata": {
    "collapsed": true
   },
   "outputs": [],
   "source": [
    "# CHOOSE ONE SERVER TO WORK ON\n",
    "server = \"kaggle-eeg.cginynb2jyca.us-west-2.rds.amazonaws.com\"\n",
    "port = 3306\n",
    "schema = \"eeg\"\n",
    "user = \"quarkonia\"\n",
    "password = \"XXXXXXXXXX\""
   ]
  },
  {
   "cell_type": "markdown",
   "metadata": {},
   "source": [
    "### Load data into MySQL\n",
    "* Fastest operation to get data from source to table is LOAD DATA LOCAL INFILE\n",
    "* Create schema\n",
    "* Create tables\n",
    "* Perform LOAD DATA command on each file"
   ]
  },
  {
   "cell_type": "code",
   "execution_count": null,
   "metadata": {
    "collapsed": false
   },
   "outputs": [],
   "source": [
    "try:\n",
    "    db = mdb.connect(user=user,\n",
    "                     passwd=password,\n",
    "                     host=server,\n",
    "                     port=port,\n",
    "                     local_infile = 1)\n",
    "    \n",
    "    cur = db.cursor()\n",
    "    \n",
    "    # See if our schema exists\n",
    "    cur.execute(\"SHOW DATABASES LIKE '%s'\" % schema)\n",
    "    if cur.rowcount == 0:\n",
    "        cur.execute(\"CREATE DATABASE %s\" % schema)\n",
    "    \n",
    "    # Set as default\n",
    "    cur.execute(\"USE %s\" % schema)\n",
    "    \n",
    "    # Create and populate the test data table\n",
    "    table = \"test_data\"\n",
    "    cur.execute(data_table_create % (table))\n",
    "    for data_file in test_data_list:\n",
    "        cur.execute(load_query % (EEG_DATA_DIR, \"test/\" + data_file, table))\n",
    "        \n",
    "    # Create and populate the train data table\n",
    "    table = \"train_data\"\n",
    "    cur.execute(data_table_create % (table))\n",
    "    for data_file in train_data_list:\n",
    "        cur.execute(load_query % (EEG_DATA_DIR, \"train/\" + data_file, table))\n",
    "    \n",
    "    # Create and populate the test and train events tables\n",
    "    table = \"test_events\"\n",
    "    cur.execute(event_table_create % (table))\n",
    "    table = \"train_events\"\n",
    "    cur.execute(event_table_create % (table))\n",
    "    for events_file in train_events_list:\n",
    "        cur.execute(load_query % (EEG_DATA_DIR, \"train/\" + events_file, table))\n",
    "    \n",
    "    # Throw the sample submission example in the DB as well\n",
    "    table = \"sample_submission\"\n",
    "    cur.execute(event_table_create % (table))\n",
    "    cur.execute(load_query % (EEG_DATA_DIR, sample_submission, table))\n",
    "    \n",
    "    if db:\n",
    "        db.close()\n",
    "\n",
    "except mdb.Error, e:\n",
    "\n",
    "    print \"Error %d: %s\" % (e.args[0], e.args[1])"
   ]
  },
  {
   "cell_type": "markdown",
   "metadata": {},
   "source": [
    "### We want to create three new fields\n",
    "* Subject\n",
    "* Session\n",
    "* Frame\n",
    "* All after 'id' field in tables\n",
    "\n",
    "Note: You *could* just alter the existing table to have new fields, but this is more intensive than just filling a new table"
   ]
  },
  {
   "cell_type": "code",
   "execution_count": null,
   "metadata": {
    "collapsed": false
   },
   "outputs": [],
   "source": [
    "# Move the data into tables with the three new fields\n",
    "try:\n",
    "    db = mdb.connect(user=user,\n",
    "                     passwd=password,\n",
    "                     host=server,\n",
    "                     port=port,\n",
    "                     db=schema)\n",
    "    \n",
    "    cur = db.cursor()\n",
    "    \n",
    "    for table in (\"test_data\", \"test_events\", \"train_data\", \"train_events\"):\n",
    "        # Get field names\n",
    "        cur.execute(\"SHOW FIELDS IN %s\" % table)\n",
    "        fields = [row[0] for row in cur.fetchall()]\n",
    "\n",
    "        # Create a new table mimicing the original ones\n",
    "        cur.execute(\"CREATE TABLE temp_%s LIKE %s\" % (table, table))\n",
    "        \n",
    "        # Add three fields\n",
    "        cur.execute(\"\"\"ALTER TABLE temp_%s\n",
    "                       ADD `subject` INT AFTER id,\n",
    "                       ADD `session` INT AFTER `subject`,\n",
    "                       ADD `frame` INT AFTER `session`\"\"\" % table)\n",
    "        \n",
    "        # Create the string for inserting data from the original tables\n",
    "        #   into the new ones\n",
    "        insert_str = (\"INSERT INTO temp_%s (\" % table)\n",
    "        for field in fields:\n",
    "            insert_str += \"`\" + field + \"`, \"\n",
    "        insert_str = insert_str[:-2] + \") SELECT * FROM %s\"\n",
    "        \n",
    "        cur.execute(insert_str % table)\n",
    "        \n",
    "        # Get rid of the old ones\n",
    "        cur.execute(\"DROP TABLE %s\" % table)\n",
    "        # Replace them with the new ones\n",
    "        cur.execute(\"RENAME TABLE temp_%s TO %s\" % (table, table))\n",
    "            \n",
    "    if db:\n",
    "        db.close()\n",
    "\n",
    "except mdb.Error, e:\n",
    "\n",
    "    print \"Error %d: %s\" % (e.args[0], e.args[1])"
   ]
  },
  {
   "cell_type": "markdown",
   "metadata": {},
   "source": [
    "### Populate the new fields by picking apart the 'id' field"
   ]
  },
  {
   "cell_type": "code",
   "execution_count": null,
   "metadata": {
    "collapsed": true
   },
   "outputs": [],
   "source": [
    "try:\n",
    "    db = mdb.connect(user=user,\n",
    "                     passwd=password,\n",
    "                     host=server,\n",
    "                     port=port,\n",
    "                     db=schema)\n",
    "    \n",
    "    cur = db.cursor()\n",
    "    \n",
    "    for table in (\"test_data\", \"test_events\", \"train_data\", \"train_events\"):\n",
    "        # Populate the fields\n",
    "        cur.execute(\"\"\"UPDATE %s SET \n",
    "                       `subject` = SUBSTR(id,5,LOCATE('_series',id)-5), \n",
    "                       `session` = SUBSTR(id,LOCATE('_series',id)+7,1),\n",
    "                       `frame` = SUBSTRING_INDEX(id,\"_\",-1)\"\"\" % table)\n",
    "    if db:\n",
    "        db.close()\n",
    "\n",
    "except mdb.Error, e:\n",
    "\n",
    "    print \"Error %d: %s\" % (e.args[0], e.args[1])"
   ]
  },
  {
   "cell_type": "markdown",
   "metadata": {},
   "source": [
    "### Add multi-key index on (subject, session, frame)"
   ]
  },
  {
   "cell_type": "code",
   "execution_count": null,
   "metadata": {
    "collapsed": true
   },
   "outputs": [],
   "source": [
    "try:\n",
    "    db = mdb.connect(user=user,\n",
    "                     passwd=password,\n",
    "                     host=server,\n",
    "                     port=port,\n",
    "                     db=schema)\n",
    "    \n",
    "    cur = db.cursor()\n",
    "    \n",
    "    for table in (\"test_data\", \"test_events\", \"train_data\", \"train_events\"):\n",
    "        # Populate the fields\n",
    "        cur.execute(\"\"\"CREATE UNIQUE INDEX subj_sess_frame\n",
    "                       ON %s (`subject`, `session`, `frame`)\n",
    "                       USING BTREE\"\"\" % table)\n",
    "    if db:\n",
    "        db.close()\n",
    "\n",
    "except mdb.Error, e:\n",
    "\n",
    "    print \"Error %d: %s\" % (e.args[0], e.args[1])"
   ]
  },
  {
   "cell_type": "markdown",
   "metadata": {},
   "source": [
    "# Example data retrieval"
   ]
  },
  {
   "cell_type": "code",
   "execution_count": null,
   "metadata": {
    "collapsed": false
   },
   "outputs": [],
   "source": [
    "data_query = \"\"\"\n",
    "             SELECT * FROM %s_data\n",
    "             WHERE subject=%i AND session=%i\n",
    "             \"\"\""
   ]
  },
  {
   "cell_type": "code",
   "execution_count": null,
   "metadata": {
    "collapsed": true
   },
   "outputs": [],
   "source": [
    "events_query = \"\"\"\n",
    "               SELECT * FROM %s_events\n",
    "               WHERE subject=%i AND session=%i\n",
    "               \"\"\""
   ]
  },
  {
   "cell_type": "code",
   "execution_count": null,
   "metadata": {
    "collapsed": false
   },
   "outputs": [],
   "source": [
    "# For example, get data and events for subject 1, session 3\n",
    "try:\n",
    "    db = mdb.connect(user=user,\n",
    "                     passwd=password,\n",
    "                     host=server,\n",
    "                     port=port,\n",
    "                     db=schema)\n",
    "    \n",
    "    data_df = pd.read_sql(data_query % (\"train\", 1, 3), db)\n",
    "    events_df = pd.read_sql(events_query % (\"train\", 1, 3), db)\n",
    "    \n",
    "    if db:\n",
    "        db.close()\n",
    "\n",
    "except mdb.Error, e:\n",
    "\n",
    "    print \"Error %d: %s\" % (e.args[0], e.args[1])"
   ]
  },
  {
   "cell_type": "code",
   "execution_count": null,
   "metadata": {
    "collapsed": false
   },
   "outputs": [],
   "source": [
    "data_df.head(10)"
   ]
  },
  {
   "cell_type": "code",
   "execution_count": null,
   "metadata": {
    "collapsed": false
   },
   "outputs": [],
   "source": [
    "events_df.head(10)"
   ]
  },
  {
   "cell_type": "markdown",
   "metadata": {},
   "source": [
    "# If you wanted all the data merged together..."
   ]
  },
  {
   "cell_type": "code",
   "execution_count": null,
   "metadata": {
    "collapsed": false
   },
   "outputs": [],
   "source": [
    "all_df = pd.merge(data_df, events_df, on=('id', 'subject', 'session', 'frame')); all_df.head(10)"
   ]
  }
 ],
 "metadata": {
  "kernelspec": {
   "display_name": "Python 2",
   "language": "python",
   "name": "python2"
  },
  "language_info": {
   "codemirror_mode": {
    "name": "ipython",
    "version": 2
   },
   "file_extension": ".py",
   "mimetype": "text/x-python",
   "name": "python",
   "nbconvert_exporter": "python",
   "pygments_lexer": "ipython2",
   "version": "2.7.6"
  }
 },
 "nbformat": 4,
 "nbformat_minor": 0
}
